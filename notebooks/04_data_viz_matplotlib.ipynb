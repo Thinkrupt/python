{
 "cells": [
  {
   "cell_type": "code",
   "execution_count": null,
   "id": "189181d2",
   "metadata": {},
   "outputs": [],
   "source": [
    "import matplotlib.pyplot as plt\n",
    "\n",
    "x = [1, 2, 3]\n",
    "y = [10, 20, 25]\n",
    "\n",
    "plt.plot(x, y)\n",
    "plt.title(\"Sample Plot\")\n",
    "plt.show()\n"
   ]
  }
 ],
 "metadata": {
  "language_info": {
   "name": "python"
  }
 },
 "nbformat": 4,
 "nbformat_minor": 5
}
