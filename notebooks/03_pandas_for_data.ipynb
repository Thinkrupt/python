{
 "cells": [
  {
   "cell_type": "code",
   "execution_count": null,
   "id": "8737f443",
   "metadata": {},
   "outputs": [],
   "source": [
    "import pandas as pd\n",
    "\n",
    "df = pd.read_csv('../data/sample-dataset.csv')\n",
    "print(df.head())\n"
   ]
  }
 ],
 "metadata": {
  "language_info": {
   "name": "python"
  }
 },
 "nbformat": 4,
 "nbformat_minor": 5
}
