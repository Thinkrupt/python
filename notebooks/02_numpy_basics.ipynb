{
 "cells": [
  {
   "cell_type": "code",
   "execution_count": null,
   "id": "d5c5956a",
   "metadata": {},
   "outputs": [],
   "source": [
    "import numpy as np\n",
    "\n",
    "a = np.array([1, 2, 3])\n",
    "b = np.array([[1, 2], [3, 4]])\n",
    "\n",
    "print(a.mean(), b.shape)\n"
   ]
  }
 ],
 "metadata": {
  "language_info": {
   "name": "python"
  }
 },
 "nbformat": 4,
 "nbformat_minor": 5
}
